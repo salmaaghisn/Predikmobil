{
  "cells": [
    {
      "cell_type": "code",
      "execution_count": 1,
      "metadata": {},
      "outputs": [
        {
          "name": "stdout",
          "output_type": "stream",
          "text": [
            "Requirement already satisfied: numpy in d:\\sem 6\\dev\\env\\lib\\site-packages (1.26.4)\n",
            "Note: you may need to restart the kernel to use updated packages.\n"
          ]
        }
      ],
      "source": [
        "pip install numpy\n"
      ]
    },
    {
      "cell_type": "code",
      "execution_count": 2,
      "metadata": {},
      "outputs": [
        {
          "name": "stdout",
          "output_type": "stream",
          "text": [
            "Requirement already satisfied: scikit-learn in d:\\sem 6\\dev\\env\\lib\\site-packages (1.5.0)\n",
            "Requirement already satisfied: numpy>=1.19.5 in d:\\sem 6\\dev\\env\\lib\\site-packages (from scikit-learn) (1.26.4)\n",
            "Requirement already satisfied: scipy>=1.6.0 in d:\\sem 6\\dev\\env\\lib\\site-packages (from scikit-learn) (1.13.1)\n",
            "Requirement already satisfied: joblib>=1.2.0 in d:\\sem 6\\dev\\env\\lib\\site-packages (from scikit-learn) (1.4.2)\n",
            "Requirement already satisfied: threadpoolctl>=3.1.0 in d:\\sem 6\\dev\\env\\lib\\site-packages (from scikit-learn) (3.5.0)\n",
            "Note: you may need to restart the kernel to use updated packages.\n"
          ]
        }
      ],
      "source": [
        "pip install scikit-learn"
      ]
    },
    {
      "cell_type": "code",
      "execution_count": 3,
      "metadata": {},
      "outputs": [
        {
          "name": "stdout",
          "output_type": "stream",
          "text": [
            "Requirement already satisfied: matplotlib in d:\\sem 6\\dev\\env\\lib\\site-packages (3.9.0)Note: you may need to restart the kernel to use updated packages.\n",
            "\n",
            "Requirement already satisfied: contourpy>=1.0.1 in d:\\sem 6\\dev\\env\\lib\\site-packages (from matplotlib) (1.2.1)\n",
            "Requirement already satisfied: cycler>=0.10 in d:\\sem 6\\dev\\env\\lib\\site-packages (from matplotlib) (0.12.1)\n",
            "Requirement already satisfied: fonttools>=4.22.0 in d:\\sem 6\\dev\\env\\lib\\site-packages (from matplotlib) (4.52.4)\n",
            "Requirement already satisfied: kiwisolver>=1.3.1 in d:\\sem 6\\dev\\env\\lib\\site-packages (from matplotlib) (1.4.5)\n",
            "Requirement already satisfied: numpy>=1.23 in d:\\sem 6\\dev\\env\\lib\\site-packages (from matplotlib) (1.26.4)\n",
            "Requirement already satisfied: packaging>=20.0 in d:\\sem 6\\dev\\env\\lib\\site-packages (from matplotlib) (24.0)\n",
            "Requirement already satisfied: pillow>=8 in d:\\sem 6\\dev\\env\\lib\\site-packages (from matplotlib) (10.3.0)\n",
            "Requirement already satisfied: pyparsing>=2.3.1 in d:\\sem 6\\dev\\env\\lib\\site-packages (from matplotlib) (3.1.2)\n",
            "Requirement already satisfied: python-dateutil>=2.7 in d:\\sem 6\\dev\\env\\lib\\site-packages (from matplotlib) (2.9.0.post0)\n",
            "Requirement already satisfied: six>=1.5 in d:\\sem 6\\dev\\env\\lib\\site-packages (from python-dateutil>=2.7->matplotlib) (1.16.0)\n"
          ]
        }
      ],
      "source": [
        "pip install matplotlib"
      ]
    },
    {
      "cell_type": "code",
      "execution_count": 4,
      "metadata": {},
      "outputs": [
        {
          "name": "stdout",
          "output_type": "stream",
          "text": [
            "Requirement already satisfied: seaborn in d:\\sem 6\\dev\\env\\lib\\site-packages (0.13.2)\n",
            "Requirement already satisfied: numpy!=1.24.0,>=1.20 in d:\\sem 6\\dev\\env\\lib\\site-packages (from seaborn) (1.26.4)\n",
            "Requirement already satisfied: pandas>=1.2 in d:\\sem 6\\dev\\env\\lib\\site-packages (from seaborn) (2.2.2)\n",
            "Requirement already satisfied: matplotlib!=3.6.1,>=3.4 in d:\\sem 6\\dev\\env\\lib\\site-packages (from seaborn) (3.9.0)\n",
            "Requirement already satisfied: contourpy>=1.0.1 in d:\\sem 6\\dev\\env\\lib\\site-packages (from matplotlib!=3.6.1,>=3.4->seaborn) (1.2.1)\n",
            "Requirement already satisfied: cycler>=0.10 in d:\\sem 6\\dev\\env\\lib\\site-packages (from matplotlib!=3.6.1,>=3.4->seaborn) (0.12.1)\n",
            "Requirement already satisfied: fonttools>=4.22.0 in d:\\sem 6\\dev\\env\\lib\\site-packages (from matplotlib!=3.6.1,>=3.4->seaborn) (4.52.4)\n",
            "Requirement already satisfied: kiwisolver>=1.3.1 in d:\\sem 6\\dev\\env\\lib\\site-packages (from matplotlib!=3.6.1,>=3.4->seaborn) (1.4.5)\n",
            "Requirement already satisfied: packaging>=20.0 in d:\\sem 6\\dev\\env\\lib\\site-packages (from matplotlib!=3.6.1,>=3.4->seaborn) (24.0)\n",
            "Requirement already satisfied: pillow>=8 in d:\\sem 6\\dev\\env\\lib\\site-packages (from matplotlib!=3.6.1,>=3.4->seaborn) (10.3.0)\n",
            "Requirement already satisfied: pyparsing>=2.3.1 in d:\\sem 6\\dev\\env\\lib\\site-packages (from matplotlib!=3.6.1,>=3.4->seaborn) (3.1.2)\n",
            "Requirement already satisfied: python-dateutil>=2.7 in d:\\sem 6\\dev\\env\\lib\\site-packages (from matplotlib!=3.6.1,>=3.4->seaborn) (2.9.0.post0)\n",
            "Requirement already satisfied: pytz>=2020.1 in d:\\sem 6\\dev\\env\\lib\\site-packages (from pandas>=1.2->seaborn) (2024.1)\n",
            "Requirement already satisfied: tzdata>=2022.7 in d:\\sem 6\\dev\\env\\lib\\site-packages (from pandas>=1.2->seaborn) (2024.1)\n",
            "Requirement already satisfied: six>=1.5 in d:\\sem 6\\dev\\env\\lib\\site-packages (from python-dateutil>=2.7->matplotlib!=3.6.1,>=3.4->seaborn) (1.16.0)\n",
            "Note: you may need to restart the kernel to use updated packages.\n"
          ]
        }
      ],
      "source": [
        "pip install seaborn"
      ]
    },
    {
      "cell_type": "markdown",
      "metadata": {
        "id": "BmwFhnKJsw9O"
      },
      "source": [
        "#Import Library"
      ]
    },
    {
      "cell_type": "code",
      "execution_count": 5,
      "metadata": {
        "id": "69aURQTAqrB6"
      },
      "outputs": [],
      "source": [
        "#import library\n",
        "import pandas as pd\n",
        "import matplotlib.pyplot as plt\n",
        "import seaborn as sns\n",
        "import numpy as np\n",
        "from sklearn.model_selection import train_test_split\n",
        "from sklearn.utils import resample\n",
        "from sklearn.preprocessing import MinMaxScaler, OneHotEncoder\n",
        "\n",
        "from sklearn.neighbors import KNeighborsRegressor\n",
        "from sklearn.metrics import mean_squared_error\n",
        "from sklearn.model_selection import cross_val_score, KFold\n",
        "from sklearn.preprocessing import StandardScaler, LabelEncoder\n",
        "\n",
        "from sklearn.metrics import accuracy_score, r2_score, mean_absolute_error"
      ]
    },
    {
      "cell_type": "markdown",
      "metadata": {
        "id": "gcAa3w79tAYh"
      },
      "source": [
        "# Import Dataset"
      ]
    },
    {
      "cell_type": "code",
      "execution_count": 6,
      "metadata": {
        "colab": {
          "base_uri": "https://localhost:8080/",
          "height": 423
        },
        "id": "rKNDqlQaA3jP",
        "outputId": "a38ea733-4e5c-4da7-a645-a52f7546ed10"
      },
      "outputs": [
        {
          "data": {
            "text/html": [
              "<div>\n",
              "<style scoped>\n",
              "    .dataframe tbody tr th:only-of-type {\n",
              "        vertical-align: middle;\n",
              "    }\n",
              "\n",
              "    .dataframe tbody tr th {\n",
              "        vertical-align: top;\n",
              "    }\n",
              "\n",
              "    .dataframe thead th {\n",
              "        text-align: right;\n",
              "    }\n",
              "</style>\n",
              "<table border=\"1\" class=\"dataframe\">\n",
              "  <thead>\n",
              "    <tr style=\"text-align: right;\">\n",
              "      <th></th>\n",
              "      <th>model</th>\n",
              "      <th>tahun</th>\n",
              "      <th>harga</th>\n",
              "      <th>transmisi</th>\n",
              "      <th>kilometer</th>\n",
              "      <th>bahan_bakar</th>\n",
              "      <th>pajak</th>\n",
              "      <th>mpg</th>\n",
              "      <th>cc</th>\n",
              "    </tr>\n",
              "  </thead>\n",
              "  <tbody>\n",
              "    <tr>\n",
              "      <th>0</th>\n",
              "      <td>Agya</td>\n",
              "      <td>2010</td>\n",
              "      <td>76000000</td>\n",
              "      <td>manual</td>\n",
              "      <td>160381</td>\n",
              "      <td>bensin</td>\n",
              "      <td>1800000</td>\n",
              "      <td>38.5</td>\n",
              "      <td>1.0</td>\n",
              "    </tr>\n",
              "    <tr>\n",
              "      <th>1</th>\n",
              "      <td>Agya</td>\n",
              "      <td>2010</td>\n",
              "      <td>78000000</td>\n",
              "      <td>matic</td>\n",
              "      <td>201098</td>\n",
              "      <td>bensin</td>\n",
              "      <td>1800001</td>\n",
              "      <td>38.5</td>\n",
              "      <td>1.0</td>\n",
              "    </tr>\n",
              "    <tr>\n",
              "      <th>2</th>\n",
              "      <td>Agya</td>\n",
              "      <td>2010</td>\n",
              "      <td>70000000</td>\n",
              "      <td>manual</td>\n",
              "      <td>211092</td>\n",
              "      <td>bensin</td>\n",
              "      <td>1800002</td>\n",
              "      <td>38.5</td>\n",
              "      <td>1.0</td>\n",
              "    </tr>\n",
              "    <tr>\n",
              "      <th>3</th>\n",
              "      <td>Agya</td>\n",
              "      <td>2010</td>\n",
              "      <td>80000000</td>\n",
              "      <td>matic</td>\n",
              "      <td>175011</td>\n",
              "      <td>bensin</td>\n",
              "      <td>1800003</td>\n",
              "      <td>38.5</td>\n",
              "      <td>1.0</td>\n",
              "    </tr>\n",
              "    <tr>\n",
              "      <th>4</th>\n",
              "      <td>Agya</td>\n",
              "      <td>2011</td>\n",
              "      <td>78000000</td>\n",
              "      <td>manual</td>\n",
              "      <td>190122</td>\n",
              "      <td>bensin</td>\n",
              "      <td>2000000</td>\n",
              "      <td>39.6</td>\n",
              "      <td>1.0</td>\n",
              "    </tr>\n",
              "    <tr>\n",
              "      <th>...</th>\n",
              "      <td>...</td>\n",
              "      <td>...</td>\n",
              "      <td>...</td>\n",
              "      <td>...</td>\n",
              "      <td>...</td>\n",
              "      <td>...</td>\n",
              "      <td>...</td>\n",
              "      <td>...</td>\n",
              "      <td>...</td>\n",
              "    </tr>\n",
              "    <tr>\n",
              "      <th>404</th>\n",
              "      <td>Corolla Cross</td>\n",
              "      <td>2022</td>\n",
              "      <td>700302100</td>\n",
              "      <td>matic</td>\n",
              "      <td>1002</td>\n",
              "      <td>hybrid</td>\n",
              "      <td>1650000</td>\n",
              "      <td>89.2</td>\n",
              "      <td>2.0</td>\n",
              "    </tr>\n",
              "    <tr>\n",
              "      <th>405</th>\n",
              "      <td>Corolla Cross</td>\n",
              "      <td>2022</td>\n",
              "      <td>702300101</td>\n",
              "      <td>matic</td>\n",
              "      <td>2100</td>\n",
              "      <td>hybrid</td>\n",
              "      <td>1650001</td>\n",
              "      <td>89.2</td>\n",
              "      <td>2.0</td>\n",
              "    </tr>\n",
              "    <tr>\n",
              "      <th>406</th>\n",
              "      <td>Corolla Cross</td>\n",
              "      <td>2023</td>\n",
              "      <td>703101200</td>\n",
              "      <td>matic</td>\n",
              "      <td>4923</td>\n",
              "      <td>hybrid</td>\n",
              "      <td>1650002</td>\n",
              "      <td>89.2</td>\n",
              "      <td>2.0</td>\n",
              "    </tr>\n",
              "    <tr>\n",
              "      <th>407</th>\n",
              "      <td>Corolla Cross</td>\n",
              "      <td>2023</td>\n",
              "      <td>760300000</td>\n",
              "      <td>matic</td>\n",
              "      <td>2301</td>\n",
              "      <td>ev</td>\n",
              "      <td>1200000</td>\n",
              "      <td>91.5</td>\n",
              "      <td>2.0</td>\n",
              "    </tr>\n",
              "    <tr>\n",
              "      <th>408</th>\n",
              "      <td>Corolla Cross</td>\n",
              "      <td>2023</td>\n",
              "      <td>770300000</td>\n",
              "      <td>matic</td>\n",
              "      <td>1003</td>\n",
              "      <td>ev</td>\n",
              "      <td>1200000</td>\n",
              "      <td>91.5</td>\n",
              "      <td>2.0</td>\n",
              "    </tr>\n",
              "  </tbody>\n",
              "</table>\n",
              "<p>409 rows × 9 columns</p>\n",
              "</div>"
            ],
            "text/plain": [
              "             model  tahun      harga transmisi  kilometer bahan_bakar  \\\n",
              "0             Agya   2010   76000000    manual     160381      bensin   \n",
              "1             Agya   2010   78000000     matic     201098      bensin   \n",
              "2             Agya   2010   70000000    manual     211092      bensin   \n",
              "3             Agya   2010   80000000     matic     175011      bensin   \n",
              "4             Agya   2011   78000000    manual     190122      bensin   \n",
              "..             ...    ...        ...       ...        ...         ...   \n",
              "404  Corolla Cross   2022  700302100     matic       1002      hybrid   \n",
              "405  Corolla Cross   2022  702300101     matic       2100      hybrid   \n",
              "406  Corolla Cross   2023  703101200     matic       4923      hybrid   \n",
              "407  Corolla Cross   2023  760300000     matic       2301          ev   \n",
              "408  Corolla Cross   2023  770300000     matic       1003          ev   \n",
              "\n",
              "       pajak   mpg   cc  \n",
              "0    1800000  38.5  1.0  \n",
              "1    1800001  38.5  1.0  \n",
              "2    1800002  38.5  1.0  \n",
              "3    1800003  38.5  1.0  \n",
              "4    2000000  39.6  1.0  \n",
              "..       ...   ...  ...  \n",
              "404  1650000  89.2  2.0  \n",
              "405  1650001  89.2  2.0  \n",
              "406  1650002  89.2  2.0  \n",
              "407  1200000  91.5  2.0  \n",
              "408  1200000  91.5  2.0  \n",
              "\n",
              "[409 rows x 9 columns]"
            ]
          },
          "execution_count": 6,
          "metadata": {},
          "output_type": "execute_result"
        }
      ],
      "source": [
        "# Import dataset\n",
        "df = pd.read_csv(\"datasetmobil.csv\", encoding='latin1')\n",
        "df"
      ]
    },
    {
      "cell_type": "code",
      "execution_count": 7,
      "metadata": {
        "colab": {
          "base_uri": "https://localhost:8080/"
        },
        "id": "UABzSv9YBF1a",
        "outputId": "20515557-dde3-4205-ddbe-bed2eee15a51"
      },
      "outputs": [
        {
          "data": {
            "text/plain": [
              "(409, 9)"
            ]
          },
          "execution_count": 7,
          "metadata": {},
          "output_type": "execute_result"
        }
      ],
      "source": [
        "df.shape"
      ]
    },
    {
      "cell_type": "code",
      "execution_count": 8,
      "metadata": {
        "colab": {
          "base_uri": "https://localhost:8080/"
        },
        "id": "8P_4GJ2TBUMq",
        "outputId": "cc398e89-ca88-46c7-95c8-58db215a4d5c"
      },
      "outputs": [
        {
          "name": "stdout",
          "output_type": "stream",
          "text": [
            "<class 'pandas.core.frame.DataFrame'>\n",
            "RangeIndex: 409 entries, 0 to 408\n",
            "Data columns (total 9 columns):\n",
            " #   Column       Non-Null Count  Dtype  \n",
            "---  ------       --------------  -----  \n",
            " 0   model        409 non-null    object \n",
            " 1   tahun        409 non-null    int64  \n",
            " 2   harga        409 non-null    int64  \n",
            " 3   transmisi    409 non-null    object \n",
            " 4   kilometer    409 non-null    int64  \n",
            " 5   bahan_bakar  409 non-null    object \n",
            " 6   pajak        409 non-null    int64  \n",
            " 7   mpg          409 non-null    float64\n",
            " 8   cc           409 non-null    float64\n",
            "dtypes: float64(2), int64(4), object(3)\n",
            "memory usage: 28.9+ KB\n"
          ]
        }
      ],
      "source": [
        "df.info()"
      ]
    },
    {
      "cell_type": "code",
      "execution_count": 9,
      "metadata": {
        "colab": {
          "base_uri": "https://localhost:8080/",
          "height": 300
        },
        "id": "BnU_g1vhBX7b",
        "outputId": "473040e6-f71e-4b44-ac1b-5fd7ef73ef2b"
      },
      "outputs": [
        {
          "data": {
            "text/html": [
              "<div>\n",
              "<style scoped>\n",
              "    .dataframe tbody tr th:only-of-type {\n",
              "        vertical-align: middle;\n",
              "    }\n",
              "\n",
              "    .dataframe tbody tr th {\n",
              "        vertical-align: top;\n",
              "    }\n",
              "\n",
              "    .dataframe thead th {\n",
              "        text-align: right;\n",
              "    }\n",
              "</style>\n",
              "<table border=\"1\" class=\"dataframe\">\n",
              "  <thead>\n",
              "    <tr style=\"text-align: right;\">\n",
              "      <th></th>\n",
              "      <th>tahun</th>\n",
              "      <th>harga</th>\n",
              "      <th>kilometer</th>\n",
              "      <th>pajak</th>\n",
              "      <th>mpg</th>\n",
              "      <th>cc</th>\n",
              "    </tr>\n",
              "  </thead>\n",
              "  <tbody>\n",
              "    <tr>\n",
              "      <th>count</th>\n",
              "      <td>409.00000</td>\n",
              "      <td>4.090000e+02</td>\n",
              "      <td>409.000000</td>\n",
              "      <td>4.090000e+02</td>\n",
              "      <td>409.000000</td>\n",
              "      <td>409.000000</td>\n",
              "    </tr>\n",
              "    <tr>\n",
              "      <th>mean</th>\n",
              "      <td>2016.92665</td>\n",
              "      <td>2.122355e+08</td>\n",
              "      <td>77736.305623</td>\n",
              "      <td>2.558102e+06</td>\n",
              "      <td>46.584597</td>\n",
              "      <td>1.602934</td>\n",
              "    </tr>\n",
              "    <tr>\n",
              "      <th>std</th>\n",
              "      <td>4.26333</td>\n",
              "      <td>1.509074e+08</td>\n",
              "      <td>74188.367148</td>\n",
              "      <td>6.335385e+05</td>\n",
              "      <td>12.851025</td>\n",
              "      <td>0.516294</td>\n",
              "    </tr>\n",
              "    <tr>\n",
              "      <th>min</th>\n",
              "      <td>2005.00000</td>\n",
              "      <td>7.000000e+07</td>\n",
              "      <td>122.000000</td>\n",
              "      <td>1.200000e+06</td>\n",
              "      <td>36.500000</td>\n",
              "      <td>1.000000</td>\n",
              "    </tr>\n",
              "    <tr>\n",
              "      <th>25%</th>\n",
              "      <td>2014.00000</td>\n",
              "      <td>1.103031e+08</td>\n",
              "      <td>21030.000000</td>\n",
              "      <td>2.150007e+06</td>\n",
              "      <td>39.900000</td>\n",
              "      <td>1.200000</td>\n",
              "    </tr>\n",
              "    <tr>\n",
              "      <th>50%</th>\n",
              "      <td>2018.00000</td>\n",
              "      <td>1.652031e+08</td>\n",
              "      <td>48772.000000</td>\n",
              "      <td>2.500004e+06</td>\n",
              "      <td>42.300000</td>\n",
              "      <td>1.500000</td>\n",
              "    </tr>\n",
              "    <tr>\n",
              "      <th>75%</th>\n",
              "      <td>2020.00000</td>\n",
              "      <td>2.503222e+08</td>\n",
              "      <td>120233.000000</td>\n",
              "      <td>3.200002e+06</td>\n",
              "      <td>46.600000</td>\n",
              "      <td>2.000000</td>\n",
              "    </tr>\n",
              "    <tr>\n",
              "      <th>max</th>\n",
              "      <td>2023.00000</td>\n",
              "      <td>7.703000e+08</td>\n",
              "      <td>299172.000000</td>\n",
              "      <td>3.860000e+06</td>\n",
              "      <td>91.500000</td>\n",
              "      <td>2.500000</td>\n",
              "    </tr>\n",
              "  </tbody>\n",
              "</table>\n",
              "</div>"
            ],
            "text/plain": [
              "            tahun         harga      kilometer         pajak         mpg  \\\n",
              "count   409.00000  4.090000e+02     409.000000  4.090000e+02  409.000000   \n",
              "mean   2016.92665  2.122355e+08   77736.305623  2.558102e+06   46.584597   \n",
              "std       4.26333  1.509074e+08   74188.367148  6.335385e+05   12.851025   \n",
              "min    2005.00000  7.000000e+07     122.000000  1.200000e+06   36.500000   \n",
              "25%    2014.00000  1.103031e+08   21030.000000  2.150007e+06   39.900000   \n",
              "50%    2018.00000  1.652031e+08   48772.000000  2.500004e+06   42.300000   \n",
              "75%    2020.00000  2.503222e+08  120233.000000  3.200002e+06   46.600000   \n",
              "max    2023.00000  7.703000e+08  299172.000000  3.860000e+06   91.500000   \n",
              "\n",
              "               cc  \n",
              "count  409.000000  \n",
              "mean     1.602934  \n",
              "std      0.516294  \n",
              "min      1.000000  \n",
              "25%      1.200000  \n",
              "50%      1.500000  \n",
              "75%      2.000000  \n",
              "max      2.500000  "
            ]
          },
          "execution_count": 9,
          "metadata": {},
          "output_type": "execute_result"
        }
      ],
      "source": [
        "df.describe()"
      ]
    },
    {
      "cell_type": "code",
      "execution_count": 10,
      "metadata": {
        "colab": {
          "base_uri": "https://localhost:8080/"
        },
        "id": "bETcXS1nBjj7",
        "outputId": "a84496b9-7bfc-40bc-9dd0-d3186eac9680"
      },
      "outputs": [
        {
          "data": {
            "text/plain": [
              "model          0\n",
              "tahun          0\n",
              "harga          0\n",
              "transmisi      0\n",
              "kilometer      0\n",
              "bahan_bakar    0\n",
              "pajak          0\n",
              "mpg            0\n",
              "cc             0\n",
              "dtype: int64"
            ]
          },
          "execution_count": 10,
          "metadata": {},
          "output_type": "execute_result"
        }
      ],
      "source": [
        "df.isnull().sum()"
      ]
    },
    {
      "cell_type": "code",
      "execution_count": 11,
      "metadata": {
        "colab": {
          "base_uri": "https://localhost:8080/"
        },
        "id": "St5zpA-ABnYW",
        "outputId": "24d7dc36-a3d3-43e1-a73d-85c05776c93e"
      },
      "outputs": [
        {
          "data": {
            "text/plain": [
              "0"
            ]
          },
          "execution_count": 11,
          "metadata": {},
          "output_type": "execute_result"
        }
      ],
      "source": [
        "df.duplicated().sum()"
      ]
    },
    {
      "cell_type": "markdown",
      "metadata": {
        "id": "7g2APP77s9_S"
      },
      "source": [
        "#EDA"
      ]
    },
    {
      "cell_type": "code",
      "execution_count": 12,
      "metadata": {
        "colab": {
          "base_uri": "https://localhost:8080/",
          "height": 202
        },
        "id": "pj6KsiwZLSHE",
        "outputId": "83c5fc16-db38-419d-ea48-da9ceeaa5c98"
      },
      "outputs": [
        {
          "data": {
            "image/png": "[encoded data removed]",
            "text/plain": [
              "<Figure size 2000x500 with 6 Axes>"
            ]
          },
          "metadata": {},
          "output_type": "display_data"
        }
      ],
      "source": [
        "# mengecek outliers menggunakan box plot\n",
        "numeric_columns = df.select_dtypes(include=['int', 'float']).columns\n",
        "\n",
        "fig, axs = plt.subplots(ncols=len(numeric_columns), figsize=(20, 5))\n",
        "\n",
        "for i, column in enumerate(numeric_columns):\n",
        "    sns.boxplot(y=column, data=df, ax=axs[i], whis=1.5)\n",
        "    axs[i].set_title(f'Box Plot for {column}')\n",
        "    axs[i].set_xlabel('')\n",
        "\n",
        "plt.tight_layout(pad=0.4, w_pad=0.5, h_pad=5.0)\n",
        "plt.show()"
      ]
    },
    {
      "cell_type": "code",
      "execution_count": 13,
      "metadata": {
        "colab": {
          "base_uri": "https://localhost:8080/"
        },
        "id": "vC54w2-OO28x",
        "outputId": "05162b18-690e-40ed-c760-a1e9be29b317"
      },
      "outputs": [
        {
          "data": {
            "text/plain": [
              "(358, 9)"
            ]
          },
          "execution_count": 13,
          "metadata": {},
          "output_type": "execute_result"
        }
      ],
      "source": [
        "# Handling outlier\n",
        "# Tentukan kolom yang akan dipertimbangkan\n",
        "kolom_yang_dipertimbangkan = ['mpg', 'kilometer', 'harga']\n",
        "\n",
        "# Hitung IQR untuk kolom-kolom yang sudah ditentukan\n",
        "Q1 = df[kolom_yang_dipertimbangkan].quantile(0.25)\n",
        "Q3 = df[kolom_yang_dipertimbangkan].quantile(0.75)\n",
        "IQR = Q3 - Q1\n",
        "\n",
        "# Filter outlier untuk kolom-kolom yang sudah ditentukan\n",
        "new_df = df[~((df[kolom_yang_dipertimbangkan] < (Q1 - 1.5 * IQR)) | (df[kolom_yang_dipertimbangkan] > (Q3 + 1.5 * IQR))).any(axis=1)]\n",
        "\n",
        "# Periksa ukuran dataset setelah menghapus outlier\n",
        "new_df.shape"
      ]
    },
    {
      "cell_type": "code",
      "execution_count": 14,
      "metadata": {
        "colab": {
          "base_uri": "https://localhost:8080/",
          "height": 423
        },
        "id": "rAUZ2ijSO-Yl",
        "outputId": "0d354fe9-2cfd-48fc-ca47-2a5b56836916"
      },
      "outputs": [
        {
          "data": {
            "text/html": [
              "<div>\n",
              "<style scoped>\n",
              "    .dataframe tbody tr th:only-of-type {\n",
              "        vertical-align: middle;\n",
              "    }\n",
              "\n",
              "    .dataframe tbody tr th {\n",
              "        vertical-align: top;\n",
              "    }\n",
              "\n",
              "    .dataframe thead th {\n",
              "        text-align: right;\n",
              "    }\n",
              "</style>\n",
              "<table border=\"1\" class=\"dataframe\">\n",
              "  <thead>\n",
              "    <tr style=\"text-align: right;\">\n",
              "      <th></th>\n",
              "      <th>model</th>\n",
              "      <th>tahun</th>\n",
              "      <th>harga</th>\n",
              "      <th>transmisi</th>\n",
              "      <th>kilometer</th>\n",
              "      <th>bahan_bakar</th>\n",
              "      <th>pajak</th>\n",
              "      <th>mpg</th>\n",
              "      <th>cc</th>\n",
              "    </tr>\n",
              "  </thead>\n",
              "  <tbody>\n",
              "    <tr>\n",
              "      <th>0</th>\n",
              "      <td>Agya</td>\n",
              "      <td>2010</td>\n",
              "      <td>76000000</td>\n",
              "      <td>manual</td>\n",
              "      <td>160381</td>\n",
              "      <td>bensin</td>\n",
              "      <td>1800000</td>\n",
              "      <td>38.5</td>\n",
              "      <td>1.0</td>\n",
              "    </tr>\n",
              "    <tr>\n",
              "      <th>1</th>\n",
              "      <td>Agya</td>\n",
              "      <td>2010</td>\n",
              "      <td>78000000</td>\n",
              "      <td>matic</td>\n",
              "      <td>201098</td>\n",
              "      <td>bensin</td>\n",
              "      <td>1800001</td>\n",
              "      <td>38.5</td>\n",
              "      <td>1.0</td>\n",
              "    </tr>\n",
              "    <tr>\n",
              "      <th>2</th>\n",
              "      <td>Agya</td>\n",
              "      <td>2010</td>\n",
              "      <td>70000000</td>\n",
              "      <td>manual</td>\n",
              "      <td>211092</td>\n",
              "      <td>bensin</td>\n",
              "      <td>1800002</td>\n",
              "      <td>38.5</td>\n",
              "      <td>1.0</td>\n",
              "    </tr>\n",
              "    <tr>\n",
              "      <th>3</th>\n",
              "      <td>Agya</td>\n",
              "      <td>2010</td>\n",
              "      <td>80000000</td>\n",
              "      <td>matic</td>\n",
              "      <td>175011</td>\n",
              "      <td>bensin</td>\n",
              "      <td>1800003</td>\n",
              "      <td>38.5</td>\n",
              "      <td>1.0</td>\n",
              "    </tr>\n",
              "    <tr>\n",
              "      <th>4</th>\n",
              "      <td>Agya</td>\n",
              "      <td>2011</td>\n",
              "      <td>78000000</td>\n",
              "      <td>manual</td>\n",
              "      <td>190122</td>\n",
              "      <td>bensin</td>\n",
              "      <td>2000000</td>\n",
              "      <td>39.6</td>\n",
              "      <td>1.0</td>\n",
              "    </tr>\n",
              "    <tr>\n",
              "      <th>...</th>\n",
              "      <td>...</td>\n",
              "      <td>...</td>\n",
              "      <td>...</td>\n",
              "      <td>...</td>\n",
              "      <td>...</td>\n",
              "      <td>...</td>\n",
              "      <td>...</td>\n",
              "      <td>...</td>\n",
              "      <td>...</td>\n",
              "    </tr>\n",
              "    <tr>\n",
              "      <th>379</th>\n",
              "      <td>Corolla Cross</td>\n",
              "      <td>2018</td>\n",
              "      <td>380102000</td>\n",
              "      <td>matic</td>\n",
              "      <td>39912</td>\n",
              "      <td>bensin</td>\n",
              "      <td>2900000</td>\n",
              "      <td>46.2</td>\n",
              "      <td>1.8</td>\n",
              "    </tr>\n",
              "    <tr>\n",
              "      <th>380</th>\n",
              "      <td>Corolla Cross</td>\n",
              "      <td>2018</td>\n",
              "      <td>390102200</td>\n",
              "      <td>matic</td>\n",
              "      <td>38812</td>\n",
              "      <td>bensin</td>\n",
              "      <td>2900001</td>\n",
              "      <td>46.2</td>\n",
              "      <td>1.8</td>\n",
              "    </tr>\n",
              "    <tr>\n",
              "      <th>381</th>\n",
              "      <td>Corolla Cross</td>\n",
              "      <td>2018</td>\n",
              "      <td>400000000</td>\n",
              "      <td>matic</td>\n",
              "      <td>38041</td>\n",
              "      <td>bensin</td>\n",
              "      <td>2900002</td>\n",
              "      <td>46.2</td>\n",
              "      <td>1.8</td>\n",
              "    </tr>\n",
              "    <tr>\n",
              "      <th>382</th>\n",
              "      <td>Corolla Cross</td>\n",
              "      <td>2018</td>\n",
              "      <td>410202000</td>\n",
              "      <td>manual</td>\n",
              "      <td>45012</td>\n",
              "      <td>bensin</td>\n",
              "      <td>2900003</td>\n",
              "      <td>46.2</td>\n",
              "      <td>1.8</td>\n",
              "    </tr>\n",
              "    <tr>\n",
              "      <th>383</th>\n",
              "      <td>Corolla Cross</td>\n",
              "      <td>2018</td>\n",
              "      <td>415202100</td>\n",
              "      <td>matic</td>\n",
              "      <td>31002</td>\n",
              "      <td>bensin</td>\n",
              "      <td>2900004</td>\n",
              "      <td>46.2</td>\n",
              "      <td>1.8</td>\n",
              "    </tr>\n",
              "  </tbody>\n",
              "</table>\n",
              "<p>358 rows × 9 columns</p>\n",
              "</div>"
            ],
            "text/plain": [
              "             model  tahun      harga transmisi  kilometer bahan_bakar  \\\n",
              "0             Agya   2010   76000000    manual     160381      bensin   \n",
              "1             Agya   2010   78000000     matic     201098      bensin   \n",
              "2             Agya   2010   70000000    manual     211092      bensin   \n",
              "3             Agya   2010   80000000     matic     175011      bensin   \n",
              "4             Agya   2011   78000000    manual     190122      bensin   \n",
              "..             ...    ...        ...       ...        ...         ...   \n",
              "379  Corolla Cross   2018  380102000     matic      39912      bensin   \n",
              "380  Corolla Cross   2018  390102200     matic      38812      bensin   \n",
              "381  Corolla Cross   2018  400000000     matic      38041      bensin   \n",
              "382  Corolla Cross   2018  410202000    manual      45012      bensin   \n",
              "383  Corolla Cross   2018  415202100     matic      31002      bensin   \n",
              "\n",
              "       pajak   mpg   cc  \n",
              "0    1800000  38.5  1.0  \n",
              "1    1800001  38.5  1.0  \n",
              "2    1800002  38.5  1.0  \n",
              "3    1800003  38.5  1.0  \n",
              "4    2000000  39.6  1.0  \n",
              "..       ...   ...  ...  \n",
              "379  2900000  46.2  1.8  \n",
              "380  2900001  46.2  1.8  \n",
              "381  2900002  46.2  1.8  \n",
              "382  2900003  46.2  1.8  \n",
              "383  2900004  46.2  1.8  \n",
              "\n",
              "[358 rows x 9 columns]"
            ]
          },
          "execution_count": 14,
          "metadata": {},
          "output_type": "execute_result"
        }
      ],
      "source": [
        "new_df"
      ]
    },
    {
      "cell_type": "code",
      "execution_count": 15,
      "metadata": {
        "colab": {
          "base_uri": "https://localhost:8080/",
          "height": 463
        },
        "id": "5jA8w9K1PGGg",
        "outputId": "64730bec-4170-47e4-b841-a832977c5288"
      },
      "outputs": [
        {
          "data": {
            "text/plain": [
              "<Axes: >"
            ]
          },
          "execution_count": 15,
          "metadata": {},
          "output_type": "execute_result"
        },
        {
          "data": {
            "image/png": "[encoded data removed]",
            "text/plain": [
              "<Figure size 640x480 with 1 Axes>"
            ]
          },
          "metadata": {},
          "output_type": "display_data"
        }
      ],
      "source": [
        "new_df.boxplot()"
      ]
    },
    {
      "cell_type": "code",
      "execution_count": 16,
      "metadata": {
        "colab": {
          "base_uri": "https://localhost:8080/"
        },
        "id": "3w8UE--VtkkL",
        "outputId": "a513f216-0dbf-4fe8-84e3-b7607ed0acc0"
      },
      "outputs": [
        {
          "data": {
            "text/plain": [
              "tahun\n",
              "2023    31\n",
              "2020    30\n",
              "2019    29\n",
              "2014    27\n",
              "2018    26\n",
              "2013    25\n",
              "2015    25\n",
              "2021    25\n",
              "2012    24\n",
              "2016    24\n",
              "2022    24\n",
              "2017    21\n",
              "2011    20\n",
              "2010    12\n",
              "2009     6\n",
              "2006     3\n",
              "2005     2\n",
              "2007     2\n",
              "2008     2\n",
              "Name: count, dtype: int64"
            ]
          },
          "execution_count": 16,
          "metadata": {},
          "output_type": "execute_result"
        }
      ],
      "source": [
        "new_df['tahun'].value_counts()"
      ]
    },
    {
      "cell_type": "code",
      "execution_count": 17,
      "metadata": {
        "colab": {
          "base_uri": "https://localhost:8080/",
          "height": 489
        },
        "id": "tawKEnrJeZg1",
        "outputId": "8d35d49e-5504-4b1e-a186-ea9777a197f1"
      },
      "outputs": [
        {
          "data": {
            "image/png": "[encoded data removed]",
            "text/plain": [
              "<Figure size 1000x600 with 1 Axes>"
            ]
          },
          "metadata": {},
          "output_type": "display_data"
        }
      ],
      "source": [
        "# Scatter plot using Matplotlib\n",
        "plt.figure(figsize=(10, 6))\n",
        "plt.scatter(new_df['tahun'], new_df['harga'], color='blue')\n",
        "plt.title('Scatter Plot of Tahun vs Harga')\n",
        "plt.xlabel('Tahun')\n",
        "plt.ylabel('Harga')\n",
        "plt.grid(True)\n",
        "plt.show()"
      ]
    },
    {
      "cell_type": "markdown",
      "metadata": {
        "id": "0_liW6YotsXC"
      },
      "source": [
        "# Data Preprocessing"
      ]
    },
    {
      "cell_type": "code",
      "execution_count": 18,
      "metadata": {
        "colab": {
          "base_uri": "https://localhost:8080/"
        },
        "id": "dSIMMboQee9_",
        "outputId": "b78e571b-8be7-4ccf-857d-476fea0e814a"
      },
      "outputs": [
        {
          "name": "stderr",
          "output_type": "stream",
          "text": [
            "C:\\Users\\Inspiron\\AppData\\Local\\Temp\\ipykernel_19520\\2067529156.py:5: SettingWithCopyWarning: \n",
            "A value is trying to be set on a copy of a slice from a DataFrame.\n",
            "Try using .loc[row_indexer,col_indexer] = value instead\n",
            "\n",
            "See the caveats in the documentation: https://pandas.pydata.org/pandas-docs/stable/user_guide/indexing.html#returning-a-view-versus-a-copy\n",
            "  new_df['model_encoded'] = le_model.fit_transform(new_df['model'])\n",
            "C:\\Users\\Inspiron\\AppData\\Local\\Temp\\ipykernel_19520\\2067529156.py:6: SettingWithCopyWarning: \n",
            "A value is trying to be set on a copy of a slice from a DataFrame.\n",
            "Try using .loc[row_indexer,col_indexer] = value instead\n",
            "\n",
            "See the caveats in the documentation: https://pandas.pydata.org/pandas-docs/stable/user_guide/indexing.html#returning-a-view-versus-a-copy\n",
            "  new_df['transmisi_encoded'] = le_transmisi.fit_transform(new_df['transmisi'])\n",
            "C:\\Users\\Inspiron\\AppData\\Local\\Temp\\ipykernel_19520\\2067529156.py:7: SettingWithCopyWarning: \n",
            "A value is trying to be set on a copy of a slice from a DataFrame.\n",
            "Try using .loc[row_indexer,col_indexer] = value instead\n",
            "\n",
            "See the caveats in the documentation: https://pandas.pydata.org/pandas-docs/stable/user_guide/indexing.html#returning-a-view-versus-a-copy\n",
            "  new_df['bahan_bakar_encoded'] = le_bahan_bakar.fit_transform(new_df['bahan_bakar'])\n"
          ]
        }
      ],
      "source": [
        "le_model = LabelEncoder()\n",
        "le_transmisi = LabelEncoder()\n",
        "le_bahan_bakar = LabelEncoder()\n",
        "\n",
        "new_df['model_encoded'] = le_model.fit_transform(new_df['model'])\n",
        "new_df['transmisi_encoded'] = le_transmisi.fit_transform(new_df['transmisi'])\n",
        "new_df['bahan_bakar_encoded'] = le_bahan_bakar.fit_transform(new_df['bahan_bakar'])"
      ]
    },
    {
      "cell_type": "code",
      "execution_count": 19,
      "metadata": {
        "colab": {
          "base_uri": "https://localhost:8080/"
        },
        "id": "ps32IO-Dh1Pa",
        "outputId": "0b313210-63da-42cf-fd5a-8651cc26dc6b"
      },
      "outputs": [
        {
          "name": "stdout",
          "output_type": "stream",
          "text": [
            "<class 'pandas.core.frame.DataFrame'>\n",
            "Index: 358 entries, 0 to 383\n",
            "Data columns (total 12 columns):\n",
            " #   Column               Non-Null Count  Dtype  \n",
            "---  ------               --------------  -----  \n",
            " 0   model                358 non-null    object \n",
            " 1   tahun                358 non-null    int64  \n",
            " 2   harga                358 non-null    int64  \n",
            " 3   transmisi            358 non-null    object \n",
            " 4   kilometer            358 non-null    int64  \n",
            " 5   bahan_bakar          358 non-null    object \n",
            " 6   pajak                358 non-null    int64  \n",
            " 7   mpg                  358 non-null    float64\n",
            " 8   cc                   358 non-null    float64\n",
            " 9   model_encoded        358 non-null    int32  \n",
            " 10  transmisi_encoded    358 non-null    int32  \n",
            " 11  bahan_bakar_encoded  358 non-null    int32  \n",
            "dtypes: float64(2), int32(3), int64(4), object(3)\n",
            "memory usage: 32.2+ KB\n"
          ]
        }
      ],
      "source": [
        "new_df.info()"
      ]
    },
    {
      "cell_type": "code",
      "execution_count": 20,
      "metadata": {
        "colab": {
          "base_uri": "https://localhost:8080/"
        },
        "id": "uGNUZHDtPVXe",
        "outputId": "e37cd3ba-dbcf-48be-eddb-b8fc86302612"
      },
      "outputs": [
        {
          "name": "stderr",
          "output_type": "stream",
          "text": [
            "C:\\Users\\Inspiron\\AppData\\Local\\Temp\\ipykernel_19520\\107320488.py:3: SettingWithCopyWarning: \n",
            "A value is trying to be set on a copy of a slice from a DataFrame.\n",
            "Try using .loc[row_indexer,col_indexer] = value instead\n",
            "\n",
            "See the caveats in the documentation: https://pandas.pydata.org/pandas-docs/stable/user_guide/indexing.html#returning-a-view-versus-a-copy\n",
            "  new_df['kilometer_scaled'] = new_df['kilometer'] / 1000  # Scale by 1,000\n",
            "C:\\Users\\Inspiron\\AppData\\Local\\Temp\\ipykernel_19520\\107320488.py:4: SettingWithCopyWarning: \n",
            "A value is trying to be set on a copy of a slice from a DataFrame.\n",
            "Try using .loc[row_indexer,col_indexer] = value instead\n",
            "\n",
            "See the caveats in the documentation: https://pandas.pydata.org/pandas-docs/stable/user_guide/indexing.html#returning-a-view-versus-a-copy\n",
            "  new_df['harga_scaled'] = new_df['harga'] / 1000000  # Scale by 1,000,000\n",
            "C:\\Users\\Inspiron\\AppData\\Local\\Temp\\ipykernel_19520\\107320488.py:5: SettingWithCopyWarning: \n",
            "A value is trying to be set on a copy of a slice from a DataFrame.\n",
            "Try using .loc[row_indexer,col_indexer] = value instead\n",
            "\n",
            "See the caveats in the documentation: https://pandas.pydata.org/pandas-docs/stable/user_guide/indexing.html#returning-a-view-versus-a-copy\n",
            "  new_df['pajak_scaled'] = new_df['pajak'] / 1000000  # Scale by 1,000,000\n"
          ]
        }
      ],
      "source": [
        "scaler = StandardScaler()\n",
        "\n",
        "new_df['kilometer_scaled'] = new_df['kilometer'] / 1000  # Scale by 1,000\n",
        "new_df['harga_scaled'] = new_df['harga'] / 1000000  # Scale by 1,000,000\n",
        "new_df['pajak_scaled'] = new_df['pajak'] / 1000000  # Scale by 1,000,000\n",
        "\n",
        "features = ['model_encoded', 'tahun', 'transmisi_encoded', 'kilometer_scaled', 'bahan_bakar_encoded', 'pajak_scaled', 'mpg', 'cc']\n",
        "X = new_df[features]\n",
        "y = new_df['harga_scaled']\n",
        "X_scaled = scaler.fit_transform(X)"
      ]
    },
    {
      "cell_type": "code",
      "execution_count": 21,
      "metadata": {
        "colab": {
          "base_uri": "https://localhost:8080/"
        },
        "id": "oNLQqhYcekbr",
        "outputId": "402363d6-50bd-4891-d7b8-e8394f367825"
      },
      "outputs": [
        {
          "data": {
            "text/plain": [
              "((358, 8), (358,))"
            ]
          },
          "execution_count": 21,
          "metadata": {},
          "output_type": "execute_result"
        }
      ],
      "source": [
        "X.shape, y.shape"
      ]
    },
    {
      "cell_type": "code",
      "execution_count": 22,
      "metadata": {
        "id": "w1rnRDjSeoDT"
      },
      "outputs": [],
      "source": [
        "# Split into training and testing sets\n",
        "X_train, X_test, y_train, y_test = train_test_split(X_scaled, y, test_size=0.2, random_state=42)"
      ]
    },
    {
      "cell_type": "markdown",
      "metadata": {
        "id": "EILMhTnZt3Zo"
      },
      "source": [
        "# Model"
      ]
    },
    {
      "cell_type": "code",
      "execution_count": 23,
      "metadata": {
        "colab": {
          "base_uri": "https://localhost:8080/",
          "height": 74
        },
        "id": "BytLyJMQerE3",
        "outputId": "fafc9c70-6c0f-4d96-fe2c-2588cdfbf625"
      },
      "outputs": [
        {
          "data": {
            "text/html": [
              "<style>#sk-container-id-1 {\n",
              "  /* Definition of color scheme common for light and dark mode */\n",
              "  --sklearn-color-text: black;\n",
              "  --sklearn-color-line: gray;\n",
              "  /* Definition of color scheme for unfitted estimators */\n",
              "  --sklearn-color-unfitted-level-0: #fff5e6;\n",
              "  --sklearn-color-unfitted-level-1: #f6e4d2;\n",
              "  --sklearn-color-unfitted-level-2: #ffe0b3;\n",
              "  --sklearn-color-unfitted-level-3: chocolate;\n",
              "  /* Definition of color scheme for fitted estimators */\n",
              "  --sklearn-color-fitted-level-0: #f0f8ff;\n",
              "  --sklearn-color-fitted-level-1: #d4ebff;\n",
              "  --sklearn-color-fitted-level-2: #b3dbfd;\n",
              "  --sklearn-color-fitted-level-3: cornflowerblue;\n",
              "\n",
              "  /* Specific color for light theme */\n",
              "  --sklearn-color-text-on-default-background: var(--sg-text-color, var(--theme-code-foreground, var(--jp-content-font-color1, black)));\n",
              "  --sklearn-color-background: var(--sg-background-color, var(--theme-background, var(--jp-layout-color0, white)));\n",
              "  --sklearn-color-border-box: var(--sg-text-color, var(--theme-code-foreground, var(--jp-content-font-color1, black)));\n",
              "  --sklearn-color-icon: #696969;\n",
              "\n",
              "  @media (prefers-color-scheme: dark) {\n",
              "    /* Redefinition of color scheme for dark theme */\n",
              "    --sklearn-color-text-on-default-background: var(--sg-text-color, var(--theme-code-foreground, var(--jp-content-font-color1, white)));\n",
              "    --sklearn-color-background: var(--sg-background-color, var(--theme-background, var(--jp-layout-color0, #111)));\n",
              "    --sklearn-color-border-box: var(--sg-text-color, var(--theme-code-foreground, var(--jp-content-font-color1, white)));\n",
              "    --sklearn-color-icon: #878787;\n",
              "  }\n",
              "}\n",
              "\n",
              "#sk-container-id-1 {\n",
              "  color: var(--sklearn-color-text);\n",
              "}\n",
              "\n",
              "#sk-container-id-1 pre {\n",
              "  padding: 0;\n",
              "}\n",
              "\n",
              "#sk-container-id-1 input.sk-hidden--visually {\n",
              "  border: 0;\n",
              "  clip: rect(1px 1px 1px 1px);\n",
              "  clip: rect(1px, 1px, 1px, 1px);\n",
              "  height: 1px;\n",
              "  margin: -1px;\n",
              "  overflow: hidden;\n",
              "  padding: 0;\n",
              "  position: absolute;\n",
              "  width: 1px;\n",
              "}\n",
              "\n",
              "#sk-container-id-1 div.sk-dashed-wrapped {\n",
              "  border: 1px dashed var(--sklearn-color-line);\n",
              "  margin: 0 0.4em 0.5em 0.4em;\n",
              "  box-sizing: border-box;\n",
              "  padding-bottom: 0.4em;\n",
              "  background-color: var(--sklearn-color-background);\n",
              "}\n",
              "\n",
              "#sk-container-id-1 div.sk-container {\n",
              "  /* jupyter's `normalize.less` sets `[hidden] { display: none; }`\n",
              "     but bootstrap.min.css set `[hidden] { display: none !important; }`\n",
              "     so we also need the `!important` here to be able to override the\n",
              "     default hidden behavior on the sphinx rendered scikit-learn.org.\n",
              "     See: https://github.com/scikit-learn/scikit-learn/issues/21755 */\n",
              "  display: inline-block !important;\n",
              "  position: relative;\n",
              "}\n",
              "\n",
              "#sk-container-id-1 div.sk-text-repr-fallback {\n",
              "  display: none;\n",
              "}\n",
              "\n",
              "div.sk-parallel-item,\n",
              "div.sk-serial,\n",
              "div.sk-item {\n",
              "  /* draw centered vertical line to link estimators */\n",
              "  background-image: linear-gradient(var(--sklearn-color-text-on-default-background), var(--sklearn-color-text-on-default-background));\n",
              "  background-size: 2px 100%;\n",
              "  background-repeat: no-repeat;\n",
              "  background-position: center center;\n",
              "}\n",
              "\n",
              "/* Parallel-specific style estimator block */\n",
              "\n",
              "#sk-container-id-1 div.sk-parallel-item::after {\n",
              "  content: \"\";\n",
              "  width: 100%;\n",
              "  border-bottom: 2px solid var(--sklearn-color-text-on-default-background);\n",
              "  flex-grow: 1;\n",
              "}\n",
              "\n",
              "#sk-container-id-1 div.sk-parallel {\n",
              "  display: flex;\n",
              "  align-items: stretch;\n",
              "  justify-content: center;\n",
              "  background-color: var(--sklearn-color-background);\n",
              "  position: relative;\n",
              "}\n",
              "\n",
              "#sk-container-id-1 div.sk-parallel-item {\n",
              "  display: flex;\n",
              "  flex-direction: column;\n",
              "}\n",
              "\n",
              "#sk-container-id-1 div.sk-parallel-item:first-child::after {\n",
              "  align-self: flex-end;\n",
              "  width: 50%;\n",
              "}\n",
              "\n",
              "#sk-container-id-1 div.sk-parallel-item:last-child::after {\n",
              "  align-self: flex-start;\n",
              "  width: 50%;\n",
              "}\n",
              "\n",
              "#sk-container-id-1 div.sk-parallel-item:only-child::after {\n",
              "  width: 0;\n",
              "}\n",
              "\n",
              "/* Serial-specific style estimator block */\n",
              "\n",
              "#sk-container-id-1 div.sk-serial {\n",
              "  display: flex;\n",
              "  flex-direction: column;\n",
              "  align-items: center;\n",
              "  background-color: var(--sklearn-color-background);\n",
              "  padding-right: 1em;\n",
              "  padding-left: 1em;\n",
              "}\n",
              "\n",
              "\n",
              "/* Toggleable style: style used for estimator/Pipeline/ColumnTransformer box that is\n",
              "clickable and can be expanded/collapsed.\n",
              "- Pipeline and ColumnTransformer use this feature and define the default style\n",
              "- Estimators will overwrite some part of the style using the `sk-estimator` class\n",
              "*/\n",
              "\n",
              "/* Pipeline and ColumnTransformer style (default) */\n",
              "\n",
              "#sk-container-id-1 div.sk-toggleable {\n",
              "  /* Default theme specific background. It is overwritten whether we have a\n",
              "  specific estimator or a Pipeline/ColumnTransformer */\n",
              "  background-color: var(--sklearn-color-background);\n",
              "}\n",
              "\n",
              "/* Toggleable label */\n",
              "#sk-container-id-1 label.sk-toggleable__label {\n",
              "  cursor: pointer;\n",
              "  display: block;\n",
              "  width: 100%;\n",
              "  margin-bottom: 0;\n",
              "  padding: 0.5em;\n",
              "  box-sizing: border-box;\n",
              "  text-align: center;\n",
              "}\n",
              "\n",
              "#sk-container-id-1 label.sk-toggleable__label-arrow:before {\n",
              "  /* Arrow on the left of the label */\n",
              "  content: \"▸\";\n",
              "  float: left;\n",
              "  margin-right: 0.25em;\n",
              "  color: var(--sklearn-color-icon);\n",
              "}\n",
              "\n",
              "#sk-container-id-1 label.sk-toggleable__label-arrow:hover:before {\n",
              "  color: var(--sklearn-color-text);\n",
              "}\n",
              "\n",
              "/* Toggleable content - dropdown */\n",
              "\n",
              "#sk-container-id-1 div.sk-toggleable__content {\n",
              "  max-height: 0;\n",
              "  max-width: 0;\n",
              "  overflow: hidden;\n",
              "  text-align: left;\n",
              "  /* unfitted */\n",
              "  background-color: var(--sklearn-color-unfitted-level-0);\n",
              "}\n",
              "\n",
              "#sk-container-id-1 div.sk-toggleable__content.fitted {\n",
              "  /* fitted */\n",
              "  background-color: var(--sklearn-color-fitted-level-0);\n",
              "}\n",
              "\n",
              "#sk-container-id-1 div.sk-toggleable__content pre {\n",
              "  margin: 0.2em;\n",
              "  border-radius: 0.25em;\n",
              "  color: var(--sklearn-color-text);\n",
              "  /* unfitted */\n",
              "  background-color: var(--sklearn-color-unfitted-level-0);\n",
              "}\n",
              "\n",
              "#sk-container-id-1 div.sk-toggleable__content.fitted pre {\n",
              "  /* unfitted */\n",
              "  background-color: var(--sklearn-color-fitted-level-0);\n",
              "}\n",
              "\n",
              "#sk-container-id-1 input.sk-toggleable__control:checked~div.sk-toggleable__content {\n",
              "  /* Expand drop-down */\n",
              "  max-height: 200px;\n",
              "  max-width: 100%;\n",
              "  overflow: auto;\n",
              "}\n",
              "\n",
              "#sk-container-id-1 input.sk-toggleable__control:checked~label.sk-toggleable__label-arrow:before {\n",
              "  content: \"▾\";\n",
              "}\n",
              "\n",
              "/* Pipeline/ColumnTransformer-specific style */\n",
              "\n",
              "#sk-container-id-1 div.sk-label input.sk-toggleable__control:checked~label.sk-toggleable__label {\n",
              "  color: var(--sklearn-color-text);\n",
              "  background-color: var(--sklearn-color-unfitted-level-2);\n",
              "}\n",
              "\n",
              "#sk-container-id-1 div.sk-label.fitted input.sk-toggleable__control:checked~label.sk-toggleable__label {\n",
              "  background-color: var(--sklearn-color-fitted-level-2);\n",
              "}\n",
              "\n",
              "/* Estimator-specific style */\n",
              "\n",
              "/* Colorize estimator box */\n",
              "#sk-container-id-1 div.sk-estimator input.sk-toggleable__control:checked~label.sk-toggleable__label {\n",
              "  /* unfitted */\n",
              "  background-color: var(--sklearn-color-unfitted-level-2);\n",
              "}\n",
              "\n",
              "#sk-container-id-1 div.sk-estimator.fitted input.sk-toggleable__control:checked~label.sk-toggleable__label {\n",
              "  /* fitted */\n",
              "  background-color: var(--sklearn-color-fitted-level-2);\n",
              "}\n",
              "\n",
              "#sk-container-id-1 div.sk-label label.sk-toggleable__label,\n",
              "#sk-container-id-1 div.sk-label label {\n",
              "  /* The background is the default theme color */\n",
              "  color: var(--sklearn-color-text-on-default-background);\n",
              "}\n",
              "\n",
              "/* On hover, darken the color of the background */\n",
              "#sk-container-id-1 div.sk-label:hover label.sk-toggleable__label {\n",
              "  color: var(--sklearn-color-text);\n",
              "  background-color: var(--sklearn-color-unfitted-level-2);\n",
              "}\n",
              "\n",
              "/* Label box, darken color on hover, fitted */\n",
              "#sk-container-id-1 div.sk-label.fitted:hover label.sk-toggleable__label.fitted {\n",
              "  color: var(--sklearn-color-text);\n",
              "  background-color: var(--sklearn-color-fitted-level-2);\n",
              "}\n",
              "\n",
              "/* Estimator label */\n",
              "\n",
              "#sk-container-id-1 div.sk-label label {\n",
              "  font-family: monospace;\n",
              "  font-weight: bold;\n",
              "  display: inline-block;\n",
              "  line-height: 1.2em;\n",
              "}\n",
              "\n",
              "#sk-container-id-1 div.sk-label-container {\n",
              "  text-align: center;\n",
              "}\n",
              "\n",
              "/* Estimator-specific */\n",
              "#sk-container-id-1 div.sk-estimator {\n",
              "  font-family: monospace;\n",
              "  border: 1px dotted var(--sklearn-color-border-box);\n",
              "  border-radius: 0.25em;\n",
              "  box-sizing: border-box;\n",
              "  margin-bottom: 0.5em;\n",
              "  /* unfitted */\n",
              "  background-color: var(--sklearn-color-unfitted-level-0);\n",
              "}\n",
              "\n",
              "#sk-container-id-1 div.sk-estimator.fitted {\n",
              "  /* fitted */\n",
              "  background-color: var(--sklearn-color-fitted-level-0);\n",
              "}\n",
              "\n",
              "/* on hover */\n",
              "#sk-container-id-1 div.sk-estimator:hover {\n",
              "  /* unfitted */\n",
              "  background-color: var(--sklearn-color-unfitted-level-2);\n",
              "}\n",
              "\n",
              "#sk-container-id-1 div.sk-estimator.fitted:hover {\n",
              "  /* fitted */\n",
              "  background-color: var(--sklearn-color-fitted-level-2);\n",
              "}\n",
              "\n",
              "/* Specification for estimator info (e.g. \"i\" and \"?\") */\n",
              "\n",
              "/* Common style for \"i\" and \"?\" */\n",
              "\n",
              ".sk-estimator-doc-link,\n",
              "a:link.sk-estimator-doc-link,\n",
              "a:visited.sk-estimator-doc-link {\n",
              "  float: right;\n",
              "  font-size: smaller;\n",
              "  line-height: 1em;\n",
              "  font-family: monospace;\n",
              "  background-color: var(--sklearn-color-background);\n",
              "  border-radius: 1em;\n",
              "  height: 1em;\n",
              "  width: 1em;\n",
              "  text-decoration: none !important;\n",
              "  margin-left: 1ex;\n",
              "  /* unfitted */\n",
              "  border: var(--sklearn-color-unfitted-level-1) 1pt solid;\n",
              "  color: var(--sklearn-color-unfitted-level-1);\n",
              "}\n",
              "\n",
              ".sk-estimator-doc-link.fitted,\n",
              "a:link.sk-estimator-doc-link.fitted,\n",
              "a:visited.sk-estimator-doc-link.fitted {\n",
              "  /* fitted */\n",
              "  border: var(--sklearn-color-fitted-level-1) 1pt solid;\n",
              "  color: var(--sklearn-color-fitted-level-1);\n",
              "}\n",
              "\n",
              "/* On hover */\n",
              "div.sk-estimator:hover .sk-estimator-doc-link:hover,\n",
              ".sk-estimator-doc-link:hover,\n",
              "div.sk-label-container:hover .sk-estimator-doc-link:hover,\n",
              ".sk-estimator-doc-link:hover {\n",
              "  /* unfitted */\n",
              "  background-color: var(--sklearn-color-unfitted-level-3);\n",
              "  color: var(--sklearn-color-background);\n",
              "  text-decoration: none;\n",
              "}\n",
              "\n",
              "div.sk-estimator.fitted:hover .sk-estimator-doc-link.fitted:hover,\n",
              ".sk-estimator-doc-link.fitted:hover,\n",
              "div.sk-label-container:hover .sk-estimator-doc-link.fitted:hover,\n",
              ".sk-estimator-doc-link.fitted:hover {\n",
              "  /* fitted */\n",
              "  background-color: var(--sklearn-color-fitted-level-3);\n",
              "  color: var(--sklearn-color-background);\n",
              "  text-decoration: none;\n",
              "}\n",
              "\n",
              "/* Span, style for the box shown on hovering the info icon */\n",
              ".sk-estimator-doc-link span {\n",
              "  display: none;\n",
              "  z-index: 9999;\n",
              "  position: relative;\n",
              "  font-weight: normal;\n",
              "  right: .2ex;\n",
              "  padding: .5ex;\n",
              "  margin: .5ex;\n",
              "  width: min-content;\n",
              "  min-width: 20ex;\n",
              "  max-width: 50ex;\n",
              "  color: var(--sklearn-color-text);\n",
              "  box-shadow: 2pt 2pt 4pt #999;\n",
              "  /* unfitted */\n",
              "  background: var(--sklearn-color-unfitted-level-0);\n",
              "  border: .5pt solid var(--sklearn-color-unfitted-level-3);\n",
              "}\n",
              "\n",
              ".sk-estimator-doc-link.fitted span {\n",
              "  /* fitted */\n",
              "  background: var(--sklearn-color-fitted-level-0);\n",
              "  border: var(--sklearn-color-fitted-level-3);\n",
              "}\n",
              "\n",
              ".sk-estimator-doc-link:hover span {\n",
              "  display: block;\n",
              "}\n",
              "\n",
              "/* \"?\"-specific style due to the `<a>` HTML tag */\n",
              "\n",
              "#sk-container-id-1 a.estimator_doc_link {\n",
              "  float: right;\n",
              "  font-size: 1rem;\n",
              "  line-height: 1em;\n",
              "  font-family: monospace;\n",
              "  background-color: var(--sklearn-color-background);\n",
              "  border-radius: 1rem;\n",
              "  height: 1rem;\n",
              "  width: 1rem;\n",
              "  text-decoration: none;\n",
              "  /* unfitted */\n",
              "  color: var(--sklearn-color-unfitted-level-1);\n",
              "  border: var(--sklearn-color-unfitted-level-1) 1pt solid;\n",
              "}\n",
              "\n",
              "#sk-container-id-1 a.estimator_doc_link.fitted {\n",
              "  /* fitted */\n",
              "  border: var(--sklearn-color-fitted-level-1) 1pt solid;\n",
              "  color: var(--sklearn-color-fitted-level-1);\n",
              "}\n",
              "\n",
              "/* On hover */\n",
              "#sk-container-id-1 a.estimator_doc_link:hover {\n",
              "  /* unfitted */\n",
              "  background-color: var(--sklearn-color-unfitted-level-3);\n",
              "  color: var(--sklearn-color-background);\n",
              "  text-decoration: none;\n",
              "}\n",
              "\n",
              "#sk-container-id-1 a.estimator_doc_link.fitted:hover {\n",
              "  /* fitted */\n",
              "  background-color: var(--sklearn-color-fitted-level-3);\n",
              "}\n",
              "</style><div id=\"sk-container-id-1\" class=\"sk-top-container\"><div class=\"sk-text-repr-fallback\"><pre>KNeighborsRegressor(n_neighbors=1)</pre><b>In a Jupyter environment, please rerun this cell to show the HTML representation or trust the notebook. <br />On GitHub, the HTML representation is unable to render, please try loading this page with nbviewer.org.</b></div><div class=\"sk-container\" hidden><div class=\"sk-item\"><div class=\"sk-estimator fitted sk-toggleable\"><input class=\"sk-toggleable__control sk-hidden--visually\" id=\"sk-estimator-id-1\" type=\"checkbox\" checked><label for=\"sk-estimator-id-1\" class=\"sk-toggleable__label fitted sk-toggleable__label-arrow fitted\">&nbsp;&nbsp;KNeighborsRegressor<a class=\"sk-estimator-doc-link fitted\" rel=\"noreferrer\" target=\"_blank\" href=\"https://scikit-learn.org/1.5/modules/generated/sklearn.neighbors.KNeighborsRegressor.html\">?<span>Documentation for KNeighborsRegressor</span></a><span class=\"sk-estimator-doc-link fitted\">i<span>Fitted</span></span></label><div class=\"sk-toggleable__content fitted\"><pre>KNeighborsRegressor(n_neighbors=1)</pre></div> </div></div></div></div>"
            ],
            "text/plain": [
              "KNeighborsRegressor(n_neighbors=1)"
            ]
          },
          "execution_count": 23,
          "metadata": {},
          "output_type": "execute_result"
        }
      ],
      "source": [
        "knn = KNeighborsRegressor(n_neighbors=1)\n",
        "knn.fit(X_train, y_train)"
      ]
    },
    {
      "cell_type": "code",
      "execution_count": 24,
      "metadata": {
        "id": "GVNbQctGesrt"
      },
      "outputs": [],
      "source": [
        "# Make predictions\n",
        "y_pred = knn.predict(X_test)"
      ]
    },
    {
      "cell_type": "markdown",
      "metadata": {
        "id": "ny2izFxDuCnM"
      },
      "source": [
        "# Evaluation"
      ]
    },
    {
      "cell_type": "code",
      "execution_count": 25,
      "metadata": {
        "colab": {
          "base_uri": "https://localhost:8080/"
        },
        "id": "rQ4jB8v1eui9",
        "outputId": "13926231-8b08-43af-fb95-fb2c4f65bde4"
      },
      "outputs": [
        {
          "name": "stdout",
          "output_type": "stream",
          "text": [
            "Mean Squared Error: 102.09534751969392\n",
            "Mean Absolute Error: 6.340127541666664\n",
            "R2: 0.9859755846464012\n"
          ]
        }
      ],
      "source": [
        "# Evaluate the model\n",
        "mse = mean_squared_error(y_test, y_pred)\n",
        "mae = mean_absolute_error(y_test, y_pred)\n",
        "r2 = r2_score(y_test, y_pred)\n",
        "\n",
        "print(f'Mean Squared Error: {mse}')\n",
        "print(f'Mean Absolute Error: {mae}')\n",
        "print(f'R2: {r2}')"
      ]
    },
    {
      "cell_type": "code",
      "execution_count": 26,
      "metadata": {
        "id": "6s9JNH6BeywI"
      },
      "outputs": [],
      "source": [
        "# Example user input for prediction\n",
        "user_input = {\n",
        "    'model': ['Agya'],\n",
        "    'tahun': [2015],\n",
        "    'transmisi': ['matic'],\n",
        "    'kilometer': [154765],\n",
        "    'bahan_bakar': ['bensin'],\n",
        "    'pajak': [2200002],\n",
        "    'mpg': [40.4],\n",
        "    'cc': [1]\n",
        "}\n",
        "user_df = pd.DataFrame(user_input)"
      ]
    },
    {
      "cell_type": "code",
      "execution_count": 27,
      "metadata": {
        "id": "-mu-_7Hke0bX"
      },
      "outputs": [],
      "source": [
        "user_df['model_encoded'] = le_model.transform(user_df['model'])\n",
        "user_df['transmisi_encoded'] = le_transmisi.transform(user_df['transmisi'])\n",
        "user_df['bahan_bakar_encoded'] = le_bahan_bakar.transform(user_df['bahan_bakar'])\n",
        "\n",
        "user_df['kilometer_scaled'] = user_df['kilometer'] / 1000  # Scale by 1,000\n",
        "user_df['pajak_scaled'] = user_df['pajak'] / 1000000  # Scale by 1,000,000"
      ]
    },
    {
      "cell_type": "code",
      "execution_count": 28,
      "metadata": {
        "id": "R9_uMHIFe-zv"
      },
      "outputs": [],
      "source": [
        "user_features = ['model_encoded', 'tahun', 'transmisi_encoded', 'kilometer_scaled', 'bahan_bakar_encoded', 'pajak_scaled', 'mpg', 'cc']\n",
        "user_X = user_df[user_features]\n",
        "user_X_scaled = scaler.transform(user_X)"
      ]
    },
    {
      "cell_type": "code",
      "execution_count": 29,
      "metadata": {
        "colab": {
          "base_uri": "https://localhost:8080/"
        },
        "id": "CDERsSqyfB-D",
        "outputId": "af1664d9-d4ae-45af-ee16-eb5f780570a4"
      },
      "outputs": [
        {
          "name": "stdout",
          "output_type": "stream",
          "text": [
            "Predicted price (in millions): 94211412.0\n"
          ]
        }
      ],
      "source": [
        "# Predict the price\n",
        "user_pred_scaled  = knn.predict(user_X_scaled)\n",
        "user_pred = user_pred_scaled * 1000000  # Convert back to original scale\n",
        "print(f'Predicted price (in millions): {user_pred[0]}')"
      ]
    },
    {
      "cell_type": "code",
      "execution_count": 30,
      "metadata": {
        "id": "N9_Iyb7ZLXBQ"
      },
      "outputs": [],
      "source": [
        "from sklearn.preprocessing import StandardScaler"
      ]
    },
    {
      "cell_type": "code",
      "execution_count": 31,
      "metadata": {
        "colab": {
          "base_uri": "https://localhost:8080/"
        },
        "id": "2zKE6UVrLbU0",
        "outputId": "9ee0e27a-88f8-43eb-e4a4-5fcbc91590c5"
      },
      "outputs": [
        {
          "name": "stderr",
          "output_type": "stream",
          "text": [
            "d:\\SEM 6\\DEV\\env\\Lib\\site-packages\\sklearn\\base.py:486: UserWarning: X has feature names, but StandardScaler was fitted without feature names\n",
            "  warnings.warn(\n"
          ]
        }
      ],
      "source": [
        "scaler = StandardScaler()\n",
        "scaler.fit(X_train)\n",
        "X = scaler.transform(X)"
      ]
    },
    {
      "cell_type": "code",
      "execution_count": 32,
      "metadata": {},
      "outputs": [],
      "source": [
        "data_diskalaan_uji = scaler.transform(X_test)"
      ]
    },
    {
      "cell_type": "code",
      "execution_count": 33,
      "metadata": {
        "id": "V_Yad79IJpwx"
      },
      "outputs": [],
      "source": [
        "import pickle\n",
        "\n",
        "filename = 'estimasi_mobil.sav'\n",
        "pickle.dump(lr)"
      ]
    },
    {
      "cell_type": "code",
      "execution_count": 34,
      "metadata": {},
      "outputs": [
        {
          "name": "stdout",
          "output_type": "stream",
          "text": [
            "Mean Squared Error: 102.11\n"
          ]
        }
      ],
      "source": []
    },
    {
      "cell_type": "code",
      "execution_count": 35,
      "metadata": {},
      "outputs": [],
      "source": [
        "# load model\n",
        "with open(\"model_knn.pkl\", \"rb\") as model_file:\n",
        "    model_knn = pickle.load(model_file)"
      ]
    },
    {
      "cell_type": "code",
      "execution_count": 36,
      "metadata": {},
      "outputs": [
        {
          "name": "stdout",
          "output_type": "stream",
          "text": [
            "Requirement already satisfied: streamlit in d:\\sem 6\\dev\\env\\lib\\site-packages (1.35.0)\n",
            "Requirement already satisfied: altair<6,>=4.0 in d:\\sem 6\\dev\\env\\lib\\site-packages (from streamlit) (5.3.0)\n",
            "Requirement already satisfied: blinker<2,>=1.0.0 in d:\\sem 6\\dev\\env\\lib\\site-packages (from streamlit) (1.8.2)\n",
            "Requirement already satisfied: cachetools<6,>=4.0 in d:\\sem 6\\dev\\env\\lib\\site-packages (from streamlit) (5.3.3)\n",
            "Requirement already satisfied: click<9,>=7.0 in d:\\sem 6\\dev\\env\\lib\\site-packages (from streamlit) (8.1.7)\n",
            "Requirement already satisfied: numpy<2,>=1.19.3 in d:\\sem 6\\dev\\env\\lib\\site-packages (from streamlit) (1.26.4)\n",
            "Requirement already satisfied: packaging<25,>=16.8 in d:\\sem 6\\dev\\env\\lib\\site-packages (from streamlit) (24.0)\n",
            "Requirement already satisfied: pandas<3,>=1.3.0 in d:\\sem 6\\dev\\env\\lib\\site-packages (from streamlit) (2.2.2)\n",
            "Requirement already satisfied: pillow<11,>=7.1.0 in d:\\sem 6\\dev\\env\\lib\\site-packages (from streamlit) (10.3.0)\n",
            "Requirement already satisfied: protobuf<5,>=3.20 in d:\\sem 6\\dev\\env\\lib\\site-packages (from streamlit) (4.25.3)\n",
            "Requirement already satisfied: pyarrow>=7.0 in d:\\sem 6\\dev\\env\\lib\\site-packages (from streamlit) (16.1.0)\n",
            "Requirement already satisfied: requests<3,>=2.27 in d:\\sem 6\\dev\\env\\lib\\site-packages (from streamlit) (2.32.3)\n",
            "Requirement already satisfied: rich<14,>=10.14.0 in d:\\sem 6\\dev\\env\\lib\\site-packages (from streamlit) (13.7.1)\n",
            "Requirement already satisfied: tenacity<9,>=8.1.0 in d:\\sem 6\\dev\\env\\lib\\site-packages (from streamlit) (8.3.0)\n",
            "Requirement already satisfied: toml<2,>=0.10.1 in d:\\sem 6\\dev\\env\\lib\\site-packages (from streamlit) (0.10.2)\n",
            "Requirement already satisfied: typing-extensions<5,>=4.3.0 in d:\\sem 6\\dev\\env\\lib\\site-packages (from streamlit) (4.12.0)\n",
            "Requirement already satisfied: gitpython!=3.1.19,<4,>=3.0.7 in d:\\sem 6\\dev\\env\\lib\\site-packages (from streamlit) (3.1.43)\n",
            "Requirement already satisfied: pydeck<1,>=0.8.0b4 in d:\\sem 6\\dev\\env\\lib\\site-packages (from streamlit) (0.9.1)\n",
            "Requirement already satisfied: tornado<7,>=6.0.3 in d:\\sem 6\\dev\\env\\lib\\site-packages (from streamlit) (6.4)\n",
            "Requirement already satisfied: watchdog>=2.1.5 in d:\\sem 6\\dev\\env\\lib\\site-packages (from streamlit) (4.0.1)\n",
            "Requirement already satisfied: jinja2 in d:\\sem 6\\dev\\env\\lib\\site-packages (from altair<6,>=4.0->streamlit) (3.1.4)\n",
            "Requirement already satisfied: jsonschema>=3.0 in d:\\sem 6\\dev\\env\\lib\\site-packages (from altair<6,>=4.0->streamlit) (4.22.0)\n",
            "Requirement already satisfied: toolz in d:\\sem 6\\dev\\env\\lib\\site-packages (from altair<6,>=4.0->streamlit) (0.12.1)\n",
            "Requirement already satisfied: colorama in d:\\sem 6\\dev\\env\\lib\\site-packages (from click<9,>=7.0->streamlit) (0.4.6)\n",
            "Requirement already satisfied: gitdb<5,>=4.0.1 in d:\\sem 6\\dev\\env\\lib\\site-packages (from gitpython!=3.1.19,<4,>=3.0.7->streamlit) (4.0.11)\n",
            "Requirement already satisfied: python-dateutil>=2.8.2 in d:\\sem 6\\dev\\env\\lib\\site-packages (from pandas<3,>=1.3.0->streamlit) (2.9.0.post0)\n",
            "Requirement already satisfied: pytz>=2020.1 in d:\\sem 6\\dev\\env\\lib\\site-packages (from pandas<3,>=1.3.0->streamlit) (2024.1)\n",
            "Requirement already satisfied: tzdata>=2022.7 in d:\\sem 6\\dev\\env\\lib\\site-packages (from pandas<3,>=1.3.0->streamlit) (2024.1)\n",
            "Requirement already satisfied: charset-normalizer<4,>=2 in d:\\sem 6\\dev\\env\\lib\\site-packages (from requests<3,>=2.27->streamlit) (3.3.2)\n",
            "Requirement already satisfied: idna<4,>=2.5 in d:\\sem 6\\dev\\env\\lib\\site-packages (from requests<3,>=2.27->streamlit) (3.7)\n",
            "Requirement already satisfied: urllib3<3,>=1.21.1 in d:\\sem 6\\dev\\env\\lib\\site-packages (from requests<3,>=2.27->streamlit) (2.2.1)\n",
            "Requirement already satisfied: certifi>=2017.4.17 in d:\\sem 6\\dev\\env\\lib\\site-packages (from requests<3,>=2.27->streamlit) (2024.2.2)\n",
            "Requirement already satisfied: markdown-it-py>=2.2.0 in d:\\sem 6\\dev\\env\\lib\\site-packages (from rich<14,>=10.14.0->streamlit) (3.0.0)\n",
            "Requirement already satisfied: pygments<3.0.0,>=2.13.0 in d:\\sem 6\\dev\\env\\lib\\site-packages (from rich<14,>=10.14.0->streamlit) (2.18.0)\n",
            "Requirement already satisfied: smmap<6,>=3.0.1 in d:\\sem 6\\dev\\env\\lib\\site-packages (from gitdb<5,>=4.0.1->gitpython!=3.1.19,<4,>=3.0.7->streamlit) (5.0.1)\n",
            "Requirement already satisfied: MarkupSafe>=2.0 in d:\\sem 6\\dev\\env\\lib\\site-packages (from jinja2->altair<6,>=4.0->streamlit) (2.1.5)\n",
            "Requirement already satisfied: attrs>=22.2.0 in d:\\sem 6\\dev\\env\\lib\\site-packages (from jsonschema>=3.0->altair<6,>=4.0->streamlit) (23.2.0)\n",
            "Requirement already satisfied: jsonschema-specifications>=2023.03.6 in d:\\sem 6\\dev\\env\\lib\\site-packages (from jsonschema>=3.0->altair<6,>=4.0->streamlit) (2023.12.1)\n",
            "Requirement already satisfied: referencing>=0.28.4 in d:\\sem 6\\dev\\env\\lib\\site-packages (from jsonschema>=3.0->altair<6,>=4.0->streamlit) (0.35.1)\n",
            "Requirement already satisfied: rpds-py>=0.7.1 in d:\\sem 6\\dev\\env\\lib\\site-packages (from jsonschema>=3.0->altair<6,>=4.0->streamlit) (0.18.1)\n",
            "Requirement already satisfied: mdurl~=0.1 in d:\\sem 6\\dev\\env\\lib\\site-packages (from markdown-it-py>=2.2.0->rich<14,>=10.14.0->streamlit) (0.1.2)\n",
            "Requirement already satisfied: six>=1.5 in d:\\sem 6\\dev\\env\\lib\\site-packages (from python-dateutil>=2.8.2->pandas<3,>=1.3.0->streamlit) (1.16.0)\n",
            "Note: you may need to restart the kernel to use updated packages.\n"
          ]
        }
      ],
      "source": [
        "pip install streamlit"
      ]
    }
  ],
  "metadata": {
    "colab": {
      "provenance": []
    },
    "kernelspec": {
      "display_name": "Python 3",
      "name": "python3"
    },
    "language_info": {
      "codemirror_mode": {
        "name": "ipython",
        "version": 3
      },
      "file_extension": ".py",
      "mimetype": "text/x-python",
      "name": "python",
      "nbconvert_exporter": "python",
      "pygments_lexer": "ipython3",
      "version": "3.12.3"
    }
  },
  "nbformat": 4,
  "nbformat_minor": 0
}
